{
  "nbformat": 4,
  "nbformat_minor": 0,
  "metadata": {
    "colab": {
      "name": "Introduction To Data Science Delivery 2.ipynb",
      "provenance": [],
      "collapsed_sections": [
        "h56O2VEMdhV_",
        "ZrWMbEVDeHKP",
        "ljaBQuGVqX3t"
      ]
    },
    "kernelspec": {
      "display_name": "Python 3",
      "name": "python3"
    },
    "language_info": {
      "name": "python"
    }
  },
  "cells": [
    {
      "cell_type": "markdown",
      "metadata": {
        "id": "91YFidK6TmZM"
      },
      "source": [
        "# Import Libraries"
      ]
    },
    {
      "cell_type": "code",
      "metadata": {
        "id": "AnlAclqESuLU"
      },
      "source": [
        "import numpy as np\n",
        "import pandas as pd\n",
        "import itertools\n",
        "from sklearn.model_selection import train_test_split\n",
        "from sklearn.feature_extraction.text import TfidfVectorizer\n",
        "from sklearn.feature_extraction.text import CountVectorizer\n",
        "from sklearn.linear_model import PassiveAggressiveClassifier, SGDClassifier\n",
        "from sklearn.metrics import accuracy_score, confusion_matrix, f1_score, auc, roc_curve\n",
        "from sklearn.naive_bayes import MultinomialNB"
      ],
      "execution_count": 57,
      "outputs": []
    },
    {
      "cell_type": "markdown",
      "metadata": {
        "id": "6mFHsn4XTyRB"
      },
      "source": [
        "# Load Data"
      ]
    },
    {
      "cell_type": "code",
      "metadata": {
        "colab": {
          "base_uri": "https://localhost:8080/",
          "height": 406
        },
        "id": "AaAYTR_STypC",
        "outputId": "d0b212cd-10c5-4cf5-a392-f83a49426795"
      },
      "source": [
        "#Read the data\n",
        "df=pd.read_csv(\"news.csv\", engine=\"python\", error_bad_lines=False)\n",
        "#Get shape and head\n",
        "df"
      ],
      "execution_count": 58,
      "outputs": [
        {
          "output_type": "execute_result",
          "data": {
            "text/html": [
              "<div>\n",
              "<style scoped>\n",
              "    .dataframe tbody tr th:only-of-type {\n",
              "        vertical-align: middle;\n",
              "    }\n",
              "\n",
              "    .dataframe tbody tr th {\n",
              "        vertical-align: top;\n",
              "    }\n",
              "\n",
              "    .dataframe thead th {\n",
              "        text-align: right;\n",
              "    }\n",
              "</style>\n",
              "<table border=\"1\" class=\"dataframe\">\n",
              "  <thead>\n",
              "    <tr style=\"text-align: right;\">\n",
              "      <th></th>\n",
              "      <th>Unnamed: 0</th>\n",
              "      <th>title</th>\n",
              "      <th>text</th>\n",
              "      <th>label</th>\n",
              "    </tr>\n",
              "  </thead>\n",
              "  <tbody>\n",
              "    <tr>\n",
              "      <th>0</th>\n",
              "      <td>8476</td>\n",
              "      <td>You Can Smell Hillary’s Fear</td>\n",
              "      <td>Daniel Greenfield, a Shillman Journalism Fello...</td>\n",
              "      <td>FAKE</td>\n",
              "    </tr>\n",
              "    <tr>\n",
              "      <th>1</th>\n",
              "      <td>10294</td>\n",
              "      <td>Watch The Exact Moment Paul Ryan Committed Pol...</td>\n",
              "      <td>Google Pinterest Digg Linkedin Reddit Stumbleu...</td>\n",
              "      <td>FAKE</td>\n",
              "    </tr>\n",
              "    <tr>\n",
              "      <th>2</th>\n",
              "      <td>3608</td>\n",
              "      <td>Kerry to go to Paris in gesture of sympathy</td>\n",
              "      <td>U.S. Secretary of State John F. Kerry said Mon...</td>\n",
              "      <td>REAL</td>\n",
              "    </tr>\n",
              "    <tr>\n",
              "      <th>3</th>\n",
              "      <td>10142</td>\n",
              "      <td>Bernie supporters on Twitter erupt in anger ag...</td>\n",
              "      <td>— Kaydee King (@KaydeeKing) November 9, 2016 T...</td>\n",
              "      <td>FAKE</td>\n",
              "    </tr>\n",
              "    <tr>\n",
              "      <th>4</th>\n",
              "      <td>875</td>\n",
              "      <td>The Battle of New York: Why This Primary Matters</td>\n",
              "      <td>It's primary day in New York and front-runners...</td>\n",
              "      <td>REAL</td>\n",
              "    </tr>\n",
              "    <tr>\n",
              "      <th>...</th>\n",
              "      <td>...</td>\n",
              "      <td>...</td>\n",
              "      <td>...</td>\n",
              "      <td>...</td>\n",
              "    </tr>\n",
              "    <tr>\n",
              "      <th>6330</th>\n",
              "      <td>4490</td>\n",
              "      <td>State Department says it can't find emails fro...</td>\n",
              "      <td>The State Department told the Republican Natio...</td>\n",
              "      <td>REAL</td>\n",
              "    </tr>\n",
              "    <tr>\n",
              "      <th>6331</th>\n",
              "      <td>8062</td>\n",
              "      <td>The ‘P’ in PBS Should Stand for ‘Plutocratic’ ...</td>\n",
              "      <td>The ‘P’ in PBS Should Stand for ‘Plutocratic’ ...</td>\n",
              "      <td>FAKE</td>\n",
              "    </tr>\n",
              "    <tr>\n",
              "      <th>6332</th>\n",
              "      <td>8622</td>\n",
              "      <td>Anti-Trump Protesters Are Tools of the Oligarc...</td>\n",
              "      <td>Anti-Trump Protesters Are Tools of the Oligar...</td>\n",
              "      <td>FAKE</td>\n",
              "    </tr>\n",
              "    <tr>\n",
              "      <th>6333</th>\n",
              "      <td>4021</td>\n",
              "      <td>In Ethiopia, Obama seeks progress on peace, se...</td>\n",
              "      <td>ADDIS ABABA, Ethiopia —President Obama convene...</td>\n",
              "      <td>REAL</td>\n",
              "    </tr>\n",
              "    <tr>\n",
              "      <th>6334</th>\n",
              "      <td>4330</td>\n",
              "      <td>Jeb Bush Is Suddenly Attacking Trump. Here's W...</td>\n",
              "      <td>Jeb Bush Is Suddenly Attacking Trump. Here's W...</td>\n",
              "      <td>REAL</td>\n",
              "    </tr>\n",
              "  </tbody>\n",
              "</table>\n",
              "<p>6335 rows × 4 columns</p>\n",
              "</div>"
            ],
            "text/plain": [
              "      Unnamed: 0  ... label\n",
              "0           8476  ...  FAKE\n",
              "1          10294  ...  FAKE\n",
              "2           3608  ...  REAL\n",
              "3          10142  ...  FAKE\n",
              "4            875  ...  REAL\n",
              "...          ...  ...   ...\n",
              "6330        4490  ...  REAL\n",
              "6331        8062  ...  FAKE\n",
              "6332        8622  ...  FAKE\n",
              "6333        4021  ...  REAL\n",
              "6334        4330  ...  REAL\n",
              "\n",
              "[6335 rows x 4 columns]"
            ]
          },
          "metadata": {
            "tags": []
          },
          "execution_count": 58
        }
      ]
    },
    {
      "cell_type": "markdown",
      "metadata": {
        "id": "h56O2VEMdhV_"
      },
      "source": [
        "# Analyzing Dataset"
      ]
    },
    {
      "cell_type": "markdown",
      "metadata": {
        "id": "ZrWMbEVDeHKP"
      },
      "source": [
        "## max, min, avg number of characters in text instances"
      ]
    },
    {
      "cell_type": "code",
      "metadata": {
        "id": "6rr7x2yFd5J-",
        "colab": {
          "base_uri": "https://localhost:8080/"
        },
        "outputId": "216bc1e2-c6d6-484d-abbb-43e5e5c2eaa8"
      },
      "source": [
        "max_char_count = 0\n",
        "min_char_count = 99999999\n",
        "total = 0\n",
        "for i in range(len(df)):\n",
        "  length = len(df.get(\"text\")[i])\n",
        "  total += length\n",
        "  if min_char_count > length and length > 1:\n",
        "    min_wchar_count = length\n",
        "  elif max_char_count < length:\n",
        "    max_char_count = length\n",
        "    \n",
        "print(\"minimum char count is \" + str(min_char_count) + \"\\n\",\n",
        "      \"maximum char count is \" + str(max_char_count) + \"\\n\",\n",
        "      \"avg char count is \" + str(int(total / len(df))))"
      ],
      "execution_count": null,
      "outputs": [
        {
          "output_type": "stream",
          "text": [
            "minimum char count is 99999999\n",
            " maximum char count is 1\n",
            " avg char count is 5062\n"
          ],
          "name": "stdout"
        }
      ]
    },
    {
      "cell_type": "markdown",
      "metadata": {
        "id": "ljaBQuGVqX3t"
      },
      "source": [
        "## max, min, avg number of words in text instances"
      ]
    },
    {
      "cell_type": "code",
      "metadata": {
        "colab": {
          "base_uri": "https://localhost:8080/"
        },
        "id": "SphyK8IfqWI7",
        "outputId": "bc92ce0f-a85f-4c2f-9e99-d3cbb19744b2"
      },
      "source": [
        "max_word_count = 0\n",
        "min_word_count = 99999999\n",
        "total = 0\n",
        "count = df['text'].str.split().str.len()\n",
        "# count.index = count.index.astype(str) + ' words:'\n",
        "# count.sort_index(inplace=True)\n",
        "for index in count:\n",
        "  total += index\n",
        "  if index > max_word_count:\n",
        "    max_word_count = index\n",
        "  elif index < min_word_count and index > 0:\n",
        "    min_word_count = index\n",
        "\n",
        "print(\"minimum word count is \" + str(min_word_count) + \"\\n\",\n",
        "      \"maximum word count is \" + str(max_word_count) + \"\\n\",\n",
        "      \"avg word count is \" + str(int(total / len(df))))"
      ],
      "execution_count": null,
      "outputs": [
        {
          "output_type": "stream",
          "text": [
            "minimum word count is 6\n",
            " maximum word count is 7503\n",
            " avg word count is 835\n"
          ],
          "name": "stdout"
        }
      ]
    },
    {
      "cell_type": "markdown",
      "metadata": {
        "id": "eMGbez0ud2mv"
      },
      "source": [
        "# Data Preprocessing"
      ]
    },
    {
      "cell_type": "markdown",
      "metadata": {
        "id": "TePm5WdIcXOH"
      },
      "source": [
        "## get the labels"
      ]
    },
    {
      "cell_type": "code",
      "metadata": {
        "colab": {
          "base_uri": "https://localhost:8080/"
        },
        "id": "HUcdZgzMcTn-",
        "outputId": "e1ab6fe5-8462-48a7-ef64-21a3039daec6"
      },
      "source": [
        "labels=df.label\n",
        "labels.head()"
      ],
      "execution_count": 59,
      "outputs": [
        {
          "output_type": "execute_result",
          "data": {
            "text/plain": [
              "0    FAKE\n",
              "1    FAKE\n",
              "2    REAL\n",
              "3    FAKE\n",
              "4    REAL\n",
              "Name: label, dtype: object"
            ]
          },
          "metadata": {
            "tags": []
          },
          "execution_count": 59
        }
      ]
    },
    {
      "cell_type": "markdown",
      "metadata": {
        "id": "WvuMQdwKcFcR"
      },
      "source": [
        "## Split Dataset Into Training and Test Set"
      ]
    },
    {
      "cell_type": "code",
      "metadata": {
        "id": "xa_2ltopcNhR"
      },
      "source": [
        "#Split the dataset\n",
        "x_train,x_test,y_train,y_test=train_test_split(df['text'], labels, test_size=0.2, random_state=7)"
      ],
      "execution_count": 60,
      "outputs": []
    },
    {
      "cell_type": "markdown",
      "metadata": {
        "id": "ARgwVY1Azdch"
      },
      "source": [
        "## Feature Selection"
      ]
    },
    {
      "cell_type": "markdown",
      "metadata": {
        "id": "7Dm9_OvjdDmb"
      },
      "source": [
        "### Tfidf vectorizer"
      ]
    },
    {
      "cell_type": "code",
      "metadata": {
        "id": "MF8EmdgfczjO"
      },
      "source": [
        "#Initialize a TfidfVectorizer\n",
        "tfidf_vectorizer=TfidfVectorizer(stop_words='english', max_df=0.7, max_features=500)\n",
        "\n",
        "#Fit and transform train set, transform test set\n",
        "tfidf_train=tfidf_vectorizer.fit_transform(x_train) \n",
        "tfidf_test=tfidf_vectorizer.transform(x_test)"
      ],
      "execution_count": 61,
      "outputs": []
    },
    {
      "cell_type": "markdown",
      "metadata": {
        "id": "U4e3sNWL014j"
      },
      "source": [
        "### count vectorizer"
      ]
    },
    {
      "cell_type": "code",
      "metadata": {
        "id": "0E5FxGS1E6su"
      },
      "source": [
        "count_vec = CountVectorizer(binary=True, stop_words=\"english\", max_features=1000)\n",
        "count_vec_train = count_vec.fit_transform(x_train)\n",
        "count_vec_test = count_vec.fit_transform(x_test)"
      ],
      "execution_count": 62,
      "outputs": []
    },
    {
      "cell_type": "markdown",
      "metadata": {
        "id": "uHmJmjQ9zqPR"
      },
      "source": [
        "# Train and Test"
      ]
    },
    {
      "cell_type": "markdown",
      "metadata": {
        "id": "i_FzIsFJDUg-"
      },
      "source": [
        "## Passive Aggresive Classifier"
      ]
    },
    {
      "cell_type": "code",
      "metadata": {
        "id": "Jz_JwjFdwp1_",
        "colab": {
          "base_uri": "https://localhost:8080/"
        },
        "outputId": "66c14717-62b0-43b7-bd18-a10985c0188c"
      },
      "source": [
        "#Initialize a PassiveAggressiveClassifier\n",
        "pac=PassiveAggressiveClassifier(max_iter=50)\n",
        "pac.fit(tfidf_train,y_train)\n",
        "#Predict on the test set and calculate accuracy\n",
        "y_pred=pac.predict(tfidf_test)\n",
        "score=accuracy_score(y_test,y_pred)\n",
        "print(f'Accuracy: {round(score*100,2)}%')"
      ],
      "execution_count": 66,
      "outputs": [
        {
          "output_type": "stream",
          "text": [
            "Accuracy: 88.87%\n"
          ],
          "name": "stdout"
        }
      ]
    },
    {
      "cell_type": "code",
      "metadata": {
        "colab": {
          "base_uri": "https://localhost:8080/"
        },
        "id": "jzCb6ADD1KVa",
        "outputId": "b2308d2a-f6e9-4511-9230-fbbd8dc1a75c"
      },
      "source": [
        "#Confusion Matrix\n",
        "confusion_matrix(y_test,y_pred, labels=['FAKE','REAL'])\n"
      ],
      "execution_count": 67,
      "outputs": [
        {
          "output_type": "execute_result",
          "data": {
            "text/plain": [
              "array([[576,  62],\n",
              "       [ 79, 550]])"
            ]
          },
          "metadata": {
            "tags": []
          },
          "execution_count": 67
        }
      ]
    },
    {
      "cell_type": "code",
      "metadata": {
        "colab": {
          "base_uri": "https://localhost:8080/"
        },
        "id": "hIkSaEPQHrAv",
        "outputId": "54f3f0d7-3084-4cc3-d72c-c12cf19287c4"
      },
      "source": [
        "f1_score(y_test,y_pred, average=\"macro\")"
      ],
      "execution_count": 69,
      "outputs": [
        {
          "output_type": "execute_result",
          "data": {
            "text/plain": [
              "0.8886666130711891"
            ]
          },
          "metadata": {
            "tags": []
          },
          "execution_count": 69
        }
      ]
    },
    {
      "cell_type": "code",
      "metadata": {
        "colab": {
          "base_uri": "https://localhost:8080/"
        },
        "id": "FGYdJ-CcIFhG",
        "outputId": "b19e5cdb-5c3d-48fd-8a51-b42d8dcf58f8"
      },
      "source": [
        "f1_score(y_test,y_pred, average=\"micro\")"
      ],
      "execution_count": 70,
      "outputs": [
        {
          "output_type": "execute_result",
          "data": {
            "text/plain": [
              "0.8887134964483031"
            ]
          },
          "metadata": {
            "tags": []
          },
          "execution_count": 70
        }
      ]
    },
    {
      "cell_type": "code",
      "metadata": {
        "colab": {
          "base_uri": "https://localhost:8080/"
        },
        "id": "o5F8k8BmPLXO",
        "outputId": "e187a7e4-eecc-43f3-a0f4-4a413322a70c"
      },
      "source": [
        "#Initialize a PassiveAggressiveClassifier\n",
        "pac=PassiveAggressiveClassifier(max_iter=50)\n",
        "pac.fit(count_vec_train,y_train)\n",
        "#Predict on the test set and calculate accuracy\n",
        "y_pred=pac.predict(count_vec_test)\n",
        "score=accuracy_score(y_test,y_pred)\n",
        "print(f'Accuracy: {round(score*100,2)}%')"
      ],
      "execution_count": 71,
      "outputs": [
        {
          "output_type": "stream",
          "text": [
            "Accuracy: 54.7%\n"
          ],
          "name": "stdout"
        },
        {
          "output_type": "stream",
          "text": [
            "/usr/local/lib/python3.7/dist-packages/sklearn/linear_model/_stochastic_gradient.py:557: ConvergenceWarning: Maximum number of iteration reached before convergence. Consider increasing max_iter to improve the fit.\n",
            "  ConvergenceWarning)\n"
          ],
          "name": "stderr"
        }
      ]
    },
    {
      "cell_type": "code",
      "metadata": {
        "colab": {
          "base_uri": "https://localhost:8080/"
        },
        "id": "SJpgxsC2t98b",
        "outputId": "b9798690-c8b7-4ee3-be80-5dbfb99330fa"
      },
      "source": [
        "#Confusion Matrix\n",
        "confusion_matrix(y_test,y_pred, labels=['FAKE','REAL'])"
      ],
      "execution_count": 72,
      "outputs": [
        {
          "output_type": "execute_result",
          "data": {
            "text/plain": [
              "array([[322, 316],\n",
              "       [258, 371]])"
            ]
          },
          "metadata": {
            "tags": []
          },
          "execution_count": 72
        }
      ]
    },
    {
      "cell_type": "code",
      "metadata": {
        "colab": {
          "base_uri": "https://localhost:8080/"
        },
        "id": "n2ZEuYqdIO2J",
        "outputId": "0c4eade9-411d-4121-af42-f7e0904873fa"
      },
      "source": [
        "f1_score(y_test,y_pred, average=\"macro\")"
      ],
      "execution_count": 73,
      "outputs": [
        {
          "output_type": "execute_result",
          "data": {
            "text/plain": [
              "0.5462827097089753"
            ]
          },
          "metadata": {
            "tags": []
          },
          "execution_count": 73
        }
      ]
    },
    {
      "cell_type": "code",
      "metadata": {
        "colab": {
          "base_uri": "https://localhost:8080/"
        },
        "id": "6IuBKxnqIQnO",
        "outputId": "ffef867f-c111-4cc2-9605-a477dc89d58c"
      },
      "source": [
        "f1_score(y_test,y_pred, average=\"micro\")"
      ],
      "execution_count": 74,
      "outputs": [
        {
          "output_type": "execute_result",
          "data": {
            "text/plain": [
              "0.5469613259668509"
            ]
          },
          "metadata": {
            "tags": []
          },
          "execution_count": 74
        }
      ]
    },
    {
      "cell_type": "markdown",
      "metadata": {
        "id": "h6AYgtzrDNRT"
      },
      "source": [
        "## Multinominal"
      ]
    },
    {
      "cell_type": "code",
      "metadata": {
        "colab": {
          "base_uri": "https://localhost:8080/"
        },
        "id": "RwwpB8-sDuCs",
        "outputId": "e91366ec-666c-4b8f-aadf-ce85af3a51b1"
      },
      "source": [
        "mn_clf = MultinomialNB(alpha=0.1)\n",
        "mn_clf.fit(tfidf_train,y_train)\n",
        "y_pred = mn_clf.predict(tfidf_test)\n",
        "score = accuracy_score(y_test, y_pred)\n",
        "print(f'Accuracy: {round(score*100,2)}%')"
      ],
      "execution_count": 75,
      "outputs": [
        {
          "output_type": "stream",
          "text": [
            "Accuracy: 84.29%\n"
          ],
          "name": "stdout"
        }
      ]
    },
    {
      "cell_type": "code",
      "metadata": {
        "colab": {
          "base_uri": "https://localhost:8080/"
        },
        "id": "waM7Fq0sN8-W",
        "outputId": "36be3ad8-1ba7-4e1c-9705-741e03b6b1d2"
      },
      "source": [
        "#Confusion Matrix\n",
        "confusion_matrix(y_test,y_pred, labels=['FAKE','REAL'])"
      ],
      "execution_count": 76,
      "outputs": [
        {
          "output_type": "execute_result",
          "data": {
            "text/plain": [
              "array([[552,  86],\n",
              "       [113, 516]])"
            ]
          },
          "metadata": {
            "tags": []
          },
          "execution_count": 76
        }
      ]
    },
    {
      "cell_type": "code",
      "metadata": {
        "colab": {
          "base_uri": "https://localhost:8080/"
        },
        "id": "RVurza2cIjz-",
        "outputId": "dfd22ae3-b888-42e6-e0f9-cb942f71e798"
      },
      "source": [
        "f1_score(y_test,y_pred, average=\"macro\")"
      ],
      "execution_count": 77,
      "outputs": [
        {
          "output_type": "execute_result",
          "data": {
            "text/plain": [
              "0.8428091643791462"
            ]
          },
          "metadata": {
            "tags": []
          },
          "execution_count": 77
        }
      ]
    },
    {
      "cell_type": "code",
      "metadata": {
        "colab": {
          "base_uri": "https://localhost:8080/"
        },
        "id": "A11ALq5OIm3N",
        "outputId": "15963bcf-0e09-4e85-b039-38184ac7fddf"
      },
      "source": [
        "f1_score(y_test,y_pred, average=\"micro\")"
      ],
      "execution_count": 78,
      "outputs": [
        {
          "output_type": "execute_result",
          "data": {
            "text/plain": [
              "0.8429360694554064"
            ]
          },
          "metadata": {
            "tags": []
          },
          "execution_count": 78
        }
      ]
    },
    {
      "cell_type": "code",
      "metadata": {
        "colab": {
          "base_uri": "https://localhost:8080/"
        },
        "id": "k0keU1lzt1N0",
        "outputId": "ff19815e-1856-4bdb-e6e7-f28851376823"
      },
      "source": [
        "mn_clf = MultinomialNB(alpha=0.1)\n",
        "mn_clf.fit(count_vec_train,y_train)\n",
        "y_pred = mn_clf.predict(count_vec_test)\n",
        "score = accuracy_score(y_test, y_pred)\n",
        "print(f'Accuracy: {round(score*100,2)}%')"
      ],
      "execution_count": 80,
      "outputs": [
        {
          "output_type": "stream",
          "text": [
            "Accuracy: 59.51%\n"
          ],
          "name": "stdout"
        }
      ]
    },
    {
      "cell_type": "code",
      "metadata": {
        "colab": {
          "base_uri": "https://localhost:8080/"
        },
        "id": "Nxg_k1qwt2vj",
        "outputId": "1005cab9-4a75-40fe-d8c8-d3c4332e6eff"
      },
      "source": [
        "#Confusion Matrix\n",
        "confusion_matrix(y_test,y_pred, labels=['FAKE','REAL'])"
      ],
      "execution_count": 81,
      "outputs": [
        {
          "output_type": "execute_result",
          "data": {
            "text/plain": [
              "array([[250, 388],\n",
              "       [125, 504]])"
            ]
          },
          "metadata": {
            "tags": []
          },
          "execution_count": 81
        }
      ]
    },
    {
      "cell_type": "code",
      "metadata": {
        "colab": {
          "base_uri": "https://localhost:8080/"
        },
        "id": "FNe1lg9SI3LN",
        "outputId": "88ab6577-35c2-4f33-9433-fe2cf2ab26af"
      },
      "source": [
        "f1_score(y_test,y_pred, average=\"macro\")"
      ],
      "execution_count": 82,
      "outputs": [
        {
          "output_type": "execute_result",
          "data": {
            "text/plain": [
              "0.5781526545441801"
            ]
          },
          "metadata": {
            "tags": []
          },
          "execution_count": 82
        }
      ]
    },
    {
      "cell_type": "code",
      "metadata": {
        "colab": {
          "base_uri": "https://localhost:8080/"
        },
        "id": "0_B2H3AEI4Z1",
        "outputId": "27f9f502-e31b-4731-d446-e0c55622de06"
      },
      "source": [
        "f1_score(y_test,y_pred, average=\"micro\")"
      ],
      "execution_count": 83,
      "outputs": [
        {
          "output_type": "execute_result",
          "data": {
            "text/plain": [
              "0.5951065509076559"
            ]
          },
          "metadata": {
            "tags": []
          },
          "execution_count": 83
        }
      ]
    },
    {
      "cell_type": "markdown",
      "metadata": {
        "id": "YMwxywcAN-43"
      },
      "source": [
        "## SGD classifier"
      ]
    },
    {
      "cell_type": "code",
      "metadata": {
        "colab": {
          "base_uri": "https://localhost:8080/"
        },
        "id": "z0dR4z-sP13V",
        "outputId": "3157613f-4afa-41d8-fe1f-8dd27bb8998c"
      },
      "source": [
        "sgd_tfidf_clf = SGDClassifier()\n",
        "sgd_tfidf_clf.fit(tfidf_train, y_train)\n",
        "y_pred = sgd_tfidf_clf.predict(tfidf_test)\n",
        "score = accuracy_score(y_test,y_pred)\n",
        "print(f'Accuracy: {round(score*100,2)}%')"
      ],
      "execution_count": 84,
      "outputs": [
        {
          "output_type": "stream",
          "text": [
            "Accuracy: 89.74%\n"
          ],
          "name": "stdout"
        }
      ]
    },
    {
      "cell_type": "code",
      "metadata": {
        "colab": {
          "base_uri": "https://localhost:8080/"
        },
        "id": "gSLhtWN_t4IM",
        "outputId": "88f0865d-4cee-4761-b2d2-1f235e9873ee"
      },
      "source": [
        "#Confusion Matrix\n",
        "confusion_matrix(y_test,y_pred, labels=['FAKE','REAL'])"
      ],
      "execution_count": 85,
      "outputs": [
        {
          "output_type": "execute_result",
          "data": {
            "text/plain": [
              "array([[567,  71],\n",
              "       [ 59, 570]])"
            ]
          },
          "metadata": {
            "tags": []
          },
          "execution_count": 85
        }
      ]
    },
    {
      "cell_type": "code",
      "metadata": {
        "colab": {
          "base_uri": "https://localhost:8080/"
        },
        "id": "LjNzpzTFJEu1",
        "outputId": "e83a6dc9-b9b2-4405-f065-0e79c4fa6305"
      },
      "source": [
        "f1_score(y_test,y_pred, average=\"macro\")"
      ],
      "execution_count": 86,
      "outputs": [
        {
          "output_type": "execute_result",
          "data": {
            "text/plain": [
              "0.8973948470048839"
            ]
          },
          "metadata": {
            "tags": []
          },
          "execution_count": 86
        }
      ]
    },
    {
      "cell_type": "code",
      "metadata": {
        "colab": {
          "base_uri": "https://localhost:8080/"
        },
        "id": "sGJVaZBHJGU1",
        "outputId": "b6593f2f-e744-444a-a23d-ce41a5fec5b7"
      },
      "source": [
        "f1_score(y_test,y_pred, average=\"micro\")"
      ],
      "execution_count": 87,
      "outputs": [
        {
          "output_type": "execute_result",
          "data": {
            "text/plain": [
              "0.8973954222573007"
            ]
          },
          "metadata": {
            "tags": []
          },
          "execution_count": 87
        }
      ]
    },
    {
      "cell_type": "code",
      "metadata": {
        "colab": {
          "base_uri": "https://localhost:8080/"
        },
        "id": "VkYz-m4_rHKH",
        "outputId": "24dcd46b-a628-457d-fd40-3b2c8f69941a"
      },
      "source": [
        "sgd_tfidf_clf = SGDClassifier()\n",
        "sgd_tfidf_clf.fit(count_vec_train, y_train)\n",
        "y_pred = sgd_tfidf_clf.predict(count_vec_test)\n",
        "score = accuracy_score(y_test,y_pred)\n",
        "print(f'Accuracy: {round(score*100,2)}%')"
      ],
      "execution_count": 88,
      "outputs": [
        {
          "output_type": "stream",
          "text": [
            "Accuracy: 52.41%\n"
          ],
          "name": "stdout"
        }
      ]
    },
    {
      "cell_type": "code",
      "metadata": {
        "colab": {
          "base_uri": "https://localhost:8080/"
        },
        "id": "WeDcue1Lt4mz",
        "outputId": "dd5ec75c-bc01-4f82-eca5-84dde87a4876"
      },
      "source": [
        "#Confusion Matrix\n",
        "confusion_matrix(y_test,y_pred, labels=['FAKE','REAL'])"
      ],
      "execution_count": 89,
      "outputs": [
        {
          "output_type": "execute_result",
          "data": {
            "text/plain": [
              "array([[314, 324],\n",
              "       [279, 350]])"
            ]
          },
          "metadata": {
            "tags": []
          },
          "execution_count": 89
        }
      ]
    },
    {
      "cell_type": "code",
      "metadata": {
        "colab": {
          "base_uri": "https://localhost:8080/"
        },
        "id": "KsmoUeQg96gM",
        "outputId": "f72aa32b-eb9b-40e5-a98f-b9de72de0685"
      },
      "source": [
        "f1_score(y_test,y_pred, average=\"macro\")"
      ],
      "execution_count": 90,
      "outputs": [
        {
          "output_type": "execute_result",
          "data": {
            "text/plain": [
              "0.5236880709579157"
            ]
          },
          "metadata": {
            "tags": []
          },
          "execution_count": 90
        }
      ]
    },
    {
      "cell_type": "code",
      "metadata": {
        "colab": {
          "base_uri": "https://localhost:8080/"
        },
        "id": "CAAq0yCn_Aa1",
        "outputId": "4c8df0c3-85c7-4a35-94aa-51513055344a"
      },
      "source": [
        "f1_score(y_test,y_pred, average=\"micro\")"
      ],
      "execution_count": 91,
      "outputs": [
        {
          "output_type": "execute_result",
          "data": {
            "text/plain": [
              "0.5240726124704025"
            ]
          },
          "metadata": {
            "tags": []
          },
          "execution_count": 91
        }
      ]
    },
    {
      "cell_type": "code",
      "metadata": {
        "id": "oDt_5neMLODV"
      },
      "source": [
        "sk"
      ],
      "execution_count": null,
      "outputs": []
    }
  ]
}